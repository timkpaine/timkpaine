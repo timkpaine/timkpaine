{
 "cells": [
  {
   "cell_type": "code",
   "execution_count": null,
   "id": "f63df6fc-e19d-4e9a-87ad-6d63a0012c38",
   "metadata": {},
   "outputs": [],
   "source": [
    "import numpy as np\n",
    "import matplotlib.pyplot as plt\n",
    "import torch\n",
    "import torch.nn as nn\n",
    "from torch.utils.data import DataLoader, Dataset\n",
    "import torch.optim as optim"
   ]
  },
  {
   "cell_type": "code",
   "execution_count": null,
   "id": "ac0b90e8-005a-4ba6-abd2-3c8c23b6a797",
   "metadata": {},
   "outputs": [],
   "source": [
    "X_train = np.arange(0, 100, 0.5)\n",
    "y_train = np.sin(X_train)"
   ]
  },
  {
   "cell_type": "code",
   "execution_count": null,
   "id": "75b160ba-df8d-4712-9459-3c9bd54d7d56",
   "metadata": {},
   "outputs": [],
   "source": [
    "X_test = np.arange(100, 200, 0.5)\n",
    "y_test = np.sin(X_test)"
   ]
  },
  {
   "cell_type": "code",
   "execution_count": null,
   "id": "92a803b0-29ae-454d-a3a2-2ea024a729e9",
   "metadata": {},
   "outputs": [],
   "source": [
    "fig, ax = plt.subplots(figsize=(15,4))\n",
    "ax.plot(X_train, y_train, lw=3, label=\"train\")\n",
    "ax.plot(X_test, y_test, lw=3, label=\"test\")\n",
    "ax.legend(loc=\"lower left\")\n",
    "plt.show()"
   ]
  },
  {
   "cell_type": "code",
   "execution_count": null,
   "id": "1a825566-e583-495c-acfc-1cb62a3d5276",
   "metadata": {},
   "outputs": [],
   "source": [
    "train_series = torch.from_numpy(y_train)\n",
    "test_series = torch.from_numpy(y_test)"
   ]
  },
  {
   "cell_type": "code",
   "execution_count": null,
   "id": "73084393-a128-454a-b9e1-1dc5646d1de1",
   "metadata": {},
   "outputs": [],
   "source": [
    "# LSTM expects input of (batch, sequence, features)\n",
    "# So shape should be (1, 179, 20) and labels (1, 1, 179)\n",
    "look_back = 20\n",
    "\n",
    "train_dataset = []\n",
    "train_labels = []\n",
    "for i in range(len(train_series)-look_back):\n",
    "    train_dataset.append(train_series[i:i+20])\n",
    "    train_labels.append(train_series[i+20])\n",
    "train_dataset = torch.stack(train_dataset).unsqueeze(0)\n",
    "train_labels = torch.stack(train_labels).unsqueeze(0).unsqueeze(2)"
   ]
  },
  {
   "cell_type": "code",
   "execution_count": null,
   "id": "3dc7eb40-d669-4e7f-9972-9c601242b320",
   "metadata": {},
   "outputs": [],
   "source": [
    "class Net(nn.Module):\n",
    "    def __init__(self, n_neurons, input_shape):\n",
    "        super(Net, self).__init__()\n",
    "        \n",
    "        self.fc1 = nn.Linear(input_shape, n_neurons)\n",
    "\n",
    "        # TODO uncomment for LSTM\n",
    "        # self.lstm = nn.LSTM(input_size=input_shape, hidden_size=n_neurons)\n",
    "        self.fc = nn.Linear(n_neurons, 1)\n",
    "    \n",
    "    def forward(self, x):\n",
    "        # TODO uncomment for LSTM\n",
    "        # out, _ = self.lstm(x)\n",
    "        out = self.fc1(x)\n",
    "        out = self.fc(out)\n",
    "        return out"
   ]
  },
  {
   "cell_type": "code",
   "execution_count": null,
   "id": "84b471e3-2f49-4c3b-9eab-aefad3ce1244",
   "metadata": {},
   "outputs": [],
   "source": [
    "n_neurons = 4\n",
    "\n",
    "model = Net(n_neurons, look_back).double()\n",
    "loss_function = nn.MSELoss()\n",
    "optimizer = optim.Adam(model.parameters(), lr=0.001)\n",
    "\n",
    "loss_curve = []\n",
    "for epoch in range(300):\n",
    "    loss_total = 0\n",
    "    \n",
    "    model.zero_grad()\n",
    "    \n",
    "    predictions = model(train_dataset)\n",
    "    \n",
    "    loss = loss_function(predictions, train_labels)\n",
    "    loss_total += loss.item()\n",
    "    loss.backward()\n",
    "    optimizer.step()\n",
    "    loss_curve.append(loss_total)"
   ]
  },
  {
   "cell_type": "code",
   "execution_count": null,
   "id": "671b0fe4-a918-40ee-907d-68ff5faf2564",
   "metadata": {},
   "outputs": [],
   "source": [
    "fig, ax = plt.subplots(1, 1, figsize=(15, 5))\n",
    "ax.plot(loss_curve, lw=2)\n",
    "ax.set_xlabel(\"Epoch\")\n",
    "ax.set_ylabel(\"Training Loss (MSE)\")\n",
    "plt.show()"
   ]
  },
  {
   "cell_type": "code",
   "execution_count": null,
   "id": "05f661db-deca-4a9b-8509-f4d87a37476e",
   "metadata": {},
   "outputs": [],
   "source": [
    "# LSTM expects input of (batch, sequence, features)\n",
    "# So shape should be (1, 179, 20)\n",
    "test_dataset = [test_series[i:i+20] for i in range(len(train_series)-look_back)]\n",
    "test_dataset = torch.stack(test_dataset).unsqueeze(0)\n",
    "\n",
    "with torch.no_grad():\n",
    "    test_predictions = model(test_dataset).squeeze()"
   ]
  },
  {
   "cell_type": "code",
   "execution_count": null,
   "id": "af00df10-375e-461c-affa-1665a3ed5b37",
   "metadata": {},
   "outputs": [],
   "source": [
    "x = np.arange(110, 200, 0.5)\n",
    "fig, ax = plt.subplots(1, 1, figsize=(15, 5))\n",
    "ax.plot(X_train,y_train, lw=2, label='train data')\n",
    "ax.plot(X_test,y_test, lw=3, c='y', label='test data')\n",
    "ax.plot(x,test_predictions, lw=3, c='r',linestyle = ':', label='predictions')\n",
    "ax.legend(loc=\"lower left\")\n",
    "plt.show();"
   ]
  },
  {
   "cell_type": "code",
   "execution_count": null,
   "id": "35b5a201-e779-47f7-97c4-178c4d3d7502",
   "metadata": {},
   "outputs": [],
   "source": [
    "extrapolation = []\n",
    "seed_batch = test_series[:20].reshape(1, 1, 20)\n",
    "current_batch = seed_batch\n",
    "with torch.no_grad():\n",
    "    for i in range(400):\n",
    "        predicted_value = model(current_batch)\n",
    "        extrapolation.append(predicted_value.item())\n",
    "        current_batch = torch.cat((current_batch[:,:,1:], predicted_value), axis=2)"
   ]
  },
  {
   "cell_type": "code",
   "execution_count": null,
   "id": "53bfae61-8891-4d03-a8df-140bcd4b914b",
   "metadata": {},
   "outputs": [],
   "source": [
    "x = np.arange(110,310,0.5)\n",
    "fig, ax = plt.subplots(1, 1, figsize=(15, 5))\n",
    "ax.plot(X_train,y_train, lw=2, label='train data')\n",
    "ax.plot(X_test,y_test, lw=3, c='y', label='test data')\n",
    "ax.plot(x,extrapolation, lw=3, c='r',linestyle = ':', label='extrapolation')\n",
    "ax.legend(loc=\"lower left\")\n",
    "plt.show();"
   ]
  },
  {
   "cell_type": "code",
   "execution_count": null,
   "id": "da1aba70-1589-46bd-85fe-b7e783b4b576",
   "metadata": {},
   "outputs": [],
   "source": []
  }
 ],
 "metadata": {
  "kernelspec": {
   "display_name": "Python 3 (ipykernel)",
   "language": "python",
   "name": "python3"
  },
  "language_info": {
   "codemirror_mode": {
    "name": "ipython",
    "version": 3
   },
   "file_extension": ".py",
   "mimetype": "text/x-python",
   "name": "python",
   "nbconvert_exporter": "python",
   "pygments_lexer": "ipython3",
   "version": "3.10.12"
  }
 },
 "nbformat": 4,
 "nbformat_minor": 5
}
