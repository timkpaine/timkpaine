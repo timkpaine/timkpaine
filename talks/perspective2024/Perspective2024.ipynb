{
 "cells": [
  {
   "cell_type": "markdown",
   "id": "8535a97b-5eb9-4d17-8fca-c967906a2555",
   "metadata": {},
   "source": [
    "# Perspective Streaming Data Example\n",
    "In this example, we will use [csp](https://github.com/point72/csp) to build a streaming data graph, and pump data into `perspective` widgets."
   ]
  },
  {
   "cell_type": "code",
   "execution_count": 1,
   "id": "e58af389-4716-4bec-9f4d-32deffef2000",
   "metadata": {},
   "outputs": [],
   "source": [
    "import csp\n",
    "from datetime import timedelta\n",
    "from ipywidgets import HBox, VBox\n",
    "from perspective import PerspectiveWidget\n",
    "from csp_nodes import *"
   ]
  },
  {
   "cell_type": "markdown",
   "id": "d6989f53-e447-4d7a-943d-2f0227f7bba6",
   "metadata": {},
   "source": [
    "The details of `csp` are not super important for the purpose of this talk, but here we construct a streaming DAG of data which will feed `perspective` at different intervals"
   ]
  },
  {
   "cell_type": "code",
   "execution_count": 2,
   "id": "031972bc-1b45-40ea-9bdd-cb465cf28e18",
   "metadata": {},
   "outputs": [],
   "source": [
    "@csp.graph\n",
    "def main_graph(\n",
    "    machines_widget: PerspectiveWidget,\n",
    "    usage_widget: PerspectiveWidget,\n",
    "    status_widget: PerspectiveWidget,\n",
    "    jobs_widget: PerspectiveWidget,\n",
    "):\n",
    "    # A randomly generated list of \"machines\"\n",
    "    all_machines = machines()\n",
    "\n",
    "    # construct three ticking nodes for usage, status, and jobs\n",
    "    usage = machine_usage(all_machines, timedelta(seconds=1))\n",
    "    status = machine_status(usage, timedelta(seconds=5))\n",
    "    jobs = machine_jobs(all_machines, timedelta(seconds=5))\n",
    "\n",
    "    # push all of our data to 4 separate perspective tables\n",
    "    push_to_perspective(csp.const(all_machines), machines_widget)\n",
    "    push_to_perspective(usage, usage_widget)\n",
    "    push_to_perspective(status, status_widget)\n",
    "    push_to_perspective(jobs, jobs_widget)"
   ]
  },
  {
   "cell_type": "code",
   "execution_count": 3,
   "id": "59a5a44b-f31a-45af-9662-4a92c18b8a99",
   "metadata": {},
   "outputs": [],
   "source": [
    "# construct 4 separate perspective widgets. Each will have its own table internally\n",
    "machines_widget = PerspectiveWidget(MACHINE_SCHEMA, index=\"machine_id\", settings=False)\n",
    "usage_widget = PerspectiveWidget(USAGE_SCHEMA, index=\"machine_id\", settings=False)\n",
    "status_widget = PerspectiveWidget(STATUS_SCHEMA, index=\"machine_id\", sort=[[\"last_update\", \"desc\"]], settings=False)\n",
    "jobs_widget = PerspectiveWidget(JOBS_SCHEMA, sort=[[\"start_time\", \"desc\"]], settings=False)"
   ]
  },
  {
   "cell_type": "code",
   "execution_count": 4,
   "id": "83d26e68-b115-4835-af42-b20bd657a06d",
   "metadata": {
    "collapsed": true,
    "jupyter": {
     "outputs_hidden": true
    }
   },
   "outputs": [
    {
     "data": {
      "application/vnd.jupyter.widget-view+json": {
       "model_id": "94988c0f440343d8bb4f0b581e55c409",
       "version_major": 2,
       "version_minor": 0
      },
      "text/plain": [
       "VBox(children=(HBox(children=(PerspectiveWidget(columns=['machine_id', 'kind', 'cores', 'region', 'zone'], set…"
      ]
     },
     "execution_count": 4,
     "metadata": {},
     "output_type": "execute_result"
    }
   ],
   "source": [
    "# a little bit of layout with ipywidgets\n",
    "VBox(children=[\n",
    "    HBox(children=[machines_widget, usage_widget]),\n",
    "    HBox(children=[status_widget, jobs_widget]),\n",
    "])"
   ]
  },
  {
   "cell_type": "code",
   "execution_count": 5,
   "id": "4ea73f80-ec24-4130-91a4-9a696a7fe9ea",
   "metadata": {},
   "outputs": [
    {
     "data": {
      "text/plain": [
       "<csp.impl.wiring.threaded_runtime.ThreadRunner at 0x16312cfd0>"
      ]
     },
     "execution_count": 5,
     "metadata": {},
     "output_type": "execute_result"
    }
   ],
   "source": [
    "csp.run_on_thread(main_graph, machines_widget, usage_widget, status_widget, jobs_widget, realtime=True, daemon=True)"
   ]
  },
  {
   "cell_type": "code",
   "execution_count": 8,
   "id": "8cf052cf-83a5-4870-80e7-dde031cc530e",
   "metadata": {},
   "outputs": [],
   "source": [
    "status_widget.plugin = \"X Bar\"\n",
    "status_widget.group_by = [\"status\"]\n",
    "status_widget.columns = [\"machine_id\"]\n",
    "status_widget.aggregates = {\"status\": \"last\"}"
   ]
  },
  {
   "cell_type": "code",
   "execution_count": null,
   "id": "1842f960-0b8a-47d8-b28e-5227639f9d3b",
   "metadata": {},
   "outputs": [],
   "source": []
  }
 ],
 "metadata": {
  "kernelspec": {
   "display_name": "Python 3 (ipykernel)",
   "language": "python",
   "name": "python3"
  },
  "language_info": {
   "codemirror_mode": {
    "name": "ipython",
    "version": 3
   },
   "file_extension": ".py",
   "mimetype": "text/x-python",
   "name": "python",
   "nbconvert_exporter": "python",
   "pygments_lexer": "ipython3",
   "version": "3.11.8"
  }
 },
 "nbformat": 4,
 "nbformat_minor": 5
}
