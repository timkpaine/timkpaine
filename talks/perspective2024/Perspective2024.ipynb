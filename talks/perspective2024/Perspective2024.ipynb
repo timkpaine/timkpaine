{
 "cells": [
  {
   "cell_type": "markdown",
   "id": "8535a97b-5eb9-4d17-8fca-c967906a2555",
   "metadata": {},
   "source": [
    "# Perspective Streaming Data Example\n",
    "In this example, we will use [csp](https://github.com/point72/csp) and [superstore](https://github.com/timkpaine/superstore) to build a streaming data graph, and pump data into `perspective` widgets.\n",
    "\n",
    "`superstore` is a library with some simulated data sources, and `csp` is a stream processing library. The details of `csp` are not super important for the purpose of this talk, but here we construct a streaming DAG of data which will feed `perspective` at different intervals"
   ]
  },
  {
   "cell_type": "code",
   "execution_count": null,
   "id": "85ddb290-6f20-44c6-b6f5-9ec922b9b7a1",
   "metadata": {},
   "outputs": [],
   "source": [
    "import csp\n",
    "import pandas as pd\n",
    "from datetime import timedelta\n",
    "from ipywidgets import HBox, VBox\n",
    "from perspective import PerspectiveWidget\n",
    "from csp_nodes import *"
   ]
  },
  {
   "cell_type": "code",
   "execution_count": null,
   "id": "0c02f80d-9b0a-4cca-b7df-07d6a4c0d785",
   "metadata": {},
   "outputs": [],
   "source": [
    "m = machines()\n",
    "pd.DataFrame(m)"
   ]
  },
  {
   "cell_type": "code",
   "execution_count": null,
   "id": "9aab5b7f-db56-4a3c-85ea-74385f2ce86e",
   "metadata": {},
   "outputs": [],
   "source": [
    "u = usage(m[1])\n",
    "u = usage(u)\n",
    "u"
   ]
  },
  {
   "cell_type": "code",
   "execution_count": null,
   "id": "ec0da381-35cb-499f-afb6-bb8e58ed433f",
   "metadata": {},
   "outputs": [],
   "source": [
    "status(u)"
   ]
  },
  {
   "cell_type": "code",
   "execution_count": null,
   "id": "29beb03d-e457-41e6-a0d3-3fa544a5cc52",
   "metadata": {},
   "outputs": [],
   "source": [
    "jobs(u)"
   ]
  },
  {
   "cell_type": "code",
   "execution_count": null,
   "id": "031972bc-1b45-40ea-9bdd-cb465cf28e18",
   "metadata": {},
   "outputs": [],
   "source": [
    "@csp.graph\n",
    "def main_graph(\n",
    "    machines_widget: PerspectiveWidget,\n",
    "    usage_widget: PerspectiveWidget,\n",
    "    status_widget: PerspectiveWidget,\n",
    "    jobs_widget: PerspectiveWidget,\n",
    "):\n",
    "    # A randomly generated list of \"machines\"\n",
    "    all_machines = machines()\n",
    "\n",
    "    # construct three ticking nodes for usage, status, and jobs\n",
    "    usage = machine_usage(all_machines, timedelta(seconds=1))\n",
    "    status = machine_status(usage, timedelta(seconds=5))\n",
    "    jobs = machine_jobs(all_machines, timedelta(seconds=5))\n",
    "\n",
    "    # push all of our data to 4 separate perspective tables\n",
    "    push_to_perspective(csp.const(all_machines), machines_widget)\n",
    "    push_to_perspective(usage, usage_widget)\n",
    "    push_to_perspective(status, status_widget)\n",
    "    push_to_perspective(jobs, jobs_widget)"
   ]
  },
  {
   "cell_type": "code",
   "execution_count": null,
   "id": "59a5a44b-f31a-45af-9662-4a92c18b8a99",
   "metadata": {},
   "outputs": [],
   "source": [
    "# construct 4 separate perspective widgets. Each will have its own table internally\n",
    "machines_widget = PerspectiveWidget(MACHINE_SCHEMA, index=\"machine_id\", settings=False)\n",
    "usage_widget = PerspectiveWidget(USAGE_SCHEMA, index=\"machine_id\", settings=False)\n",
    "status_widget = PerspectiveWidget(STATUS_SCHEMA, index=\"machine_id\", sort=[[\"last_update\", \"desc\"]], settings=False)\n",
    "jobs_widget = PerspectiveWidget(JOBS_SCHEMA, sort=[[\"start_time\", \"desc\"]], settings=False)"
   ]
  },
  {
   "cell_type": "code",
   "execution_count": null,
   "id": "83d26e68-b115-4835-af42-b20bd657a06d",
   "metadata": {},
   "outputs": [],
   "source": [
    "# a little bit of layout with ipywidgets\n",
    "VBox(children=[\n",
    "    HBox(children=[machines_widget, usage_widget]),\n",
    "    HBox(children=[status_widget, jobs_widget]),\n",
    "])"
   ]
  },
  {
   "cell_type": "code",
   "execution_count": null,
   "id": "4ea73f80-ec24-4130-91a4-9a696a7fe9ea",
   "metadata": {},
   "outputs": [],
   "source": [
    "csp.run_on_thread(main_graph, machines_widget, usage_widget, status_widget, jobs_widget, realtime=True, daemon=True)"
   ]
  },
  {
   "cell_type": "code",
   "execution_count": null,
   "id": "8cf052cf-83a5-4870-80e7-dde031cc530e",
   "metadata": {},
   "outputs": [],
   "source": [
    "status_widget.plugin = \"X Bar\"\n",
    "status_widget.group_by = [\"status\"]\n",
    "status_widget.columns = [\"machine_id\"]\n",
    "status_widget.aggregates = {\"status\": \"last\"}"
   ]
  },
  {
   "cell_type": "code",
   "execution_count": null,
   "id": "1842f960-0b8a-47d8-b28e-5227639f9d3b",
   "metadata": {},
   "outputs": [],
   "source": []
  }
 ],
 "metadata": {
  "kernelspec": {
   "display_name": "Python 3 (ipykernel)",
   "language": "python",
   "name": "python3"
  },
  "language_info": {
   "codemirror_mode": {
    "name": "ipython",
    "version": 3
   },
   "file_extension": ".py",
   "mimetype": "text/x-python",
   "name": "python",
   "nbconvert_exporter": "python",
   "pygments_lexer": "ipython3",
   "version": "3.11.8"
  }
 },
 "nbformat": 4,
 "nbformat_minor": 5
}
