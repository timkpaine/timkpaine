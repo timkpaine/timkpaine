{
 "cells": [
  {
   "cell_type": "markdown",
   "id": "8535a97b-5eb9-4d17-8fca-c967906a2555",
   "metadata": {},
   "source": [
    "# Perspective Streaming Data Example\n",
    "In this example, we will use [csp](https://github.com/point72/csp) and [superstore](https://github.com/timkpaine/superstore) to build a streaming data graph, and pump data into `perspective` widgets.\n",
    "\n",
    "`superstore` is a library with some simulated data sources, and `csp` is a stream processing library. The details of `csp` are not super important for the purpose of this talk, but here we construct a streaming DAG of data which will feed `perspective` at different intervals"
   ]
  },
  {
   "cell_type": "code",
   "execution_count": 1,
   "id": "85ddb290-6f20-44c6-b6f5-9ec922b9b7a1",
   "metadata": {},
   "outputs": [],
   "source": [
    "import csp\n",
    "import pandas as pd\n",
    "from datetime import timedelta\n",
    "from ipywidgets import HBox, VBox\n",
    "from perspective import PerspectiveWidget\n",
    "from csp_nodes import *"
   ]
  },
  {
   "cell_type": "code",
   "execution_count": 2,
   "id": "0c02f80d-9b0a-4cca-b7df-07d6a4c0d785",
   "metadata": {},
   "outputs": [
    {
     "data": {
      "text/html": [
       "<div>\n",
       "<style scoped>\n",
       "    .dataframe tbody tr th:only-of-type {\n",
       "        vertical-align: middle;\n",
       "    }\n",
       "\n",
       "    .dataframe tbody tr th {\n",
       "        vertical-align: top;\n",
       "    }\n",
       "\n",
       "    .dataframe thead th {\n",
       "        text-align: right;\n",
       "    }\n",
       "</style>\n",
       "<table border=\"1\" class=\"dataframe\">\n",
       "  <thead>\n",
       "    <tr style=\"text-align: right;\">\n",
       "      <th></th>\n",
       "      <th>machine_id</th>\n",
       "      <th>kind</th>\n",
       "      <th>cores</th>\n",
       "      <th>region</th>\n",
       "      <th>zone</th>\n",
       "    </tr>\n",
       "  </thead>\n",
       "  <tbody>\n",
       "    <tr>\n",
       "      <th>0</th>\n",
       "      <td>cad15a8e3fe9</td>\n",
       "      <td>worker</td>\n",
       "      <td>64</td>\n",
       "      <td>na</td>\n",
       "      <td>A</td>\n",
       "    </tr>\n",
       "    <tr>\n",
       "      <th>1</th>\n",
       "      <td>512d6194ca5c</td>\n",
       "      <td>edge</td>\n",
       "      <td>8</td>\n",
       "      <td>eu</td>\n",
       "      <td>D</td>\n",
       "    </tr>\n",
       "    <tr>\n",
       "      <th>2</th>\n",
       "      <td>375ddf95227b</td>\n",
       "      <td>worker</td>\n",
       "      <td>64</td>\n",
       "      <td>ap</td>\n",
       "      <td>C</td>\n",
       "    </tr>\n",
       "    <tr>\n",
       "      <th>3</th>\n",
       "      <td>d6187389714e</td>\n",
       "      <td>edge</td>\n",
       "      <td>8</td>\n",
       "      <td>eu</td>\n",
       "      <td>D</td>\n",
       "    </tr>\n",
       "    <tr>\n",
       "      <th>4</th>\n",
       "      <td>6c29573bd069</td>\n",
       "      <td>edge</td>\n",
       "      <td>4</td>\n",
       "      <td>ap</td>\n",
       "      <td>A</td>\n",
       "    </tr>\n",
       "    <tr>\n",
       "      <th>...</th>\n",
       "      <td>...</td>\n",
       "      <td>...</td>\n",
       "      <td>...</td>\n",
       "      <td>...</td>\n",
       "      <td>...</td>\n",
       "    </tr>\n",
       "    <tr>\n",
       "      <th>95</th>\n",
       "      <td>3c0fb26783d3</td>\n",
       "      <td>core</td>\n",
       "      <td>16</td>\n",
       "      <td>eu</td>\n",
       "      <td>C</td>\n",
       "    </tr>\n",
       "    <tr>\n",
       "      <th>96</th>\n",
       "      <td>96d46d4ccc5a</td>\n",
       "      <td>core</td>\n",
       "      <td>16</td>\n",
       "      <td>eu</td>\n",
       "      <td>A</td>\n",
       "    </tr>\n",
       "    <tr>\n",
       "      <th>97</th>\n",
       "      <td>667a77c79630</td>\n",
       "      <td>edge</td>\n",
       "      <td>4</td>\n",
       "      <td>na</td>\n",
       "      <td>A</td>\n",
       "    </tr>\n",
       "    <tr>\n",
       "      <th>98</th>\n",
       "      <td>509488895a9f</td>\n",
       "      <td>worker</td>\n",
       "      <td>64</td>\n",
       "      <td>eu</td>\n",
       "      <td>A</td>\n",
       "    </tr>\n",
       "    <tr>\n",
       "      <th>99</th>\n",
       "      <td>a7d9e55f764d</td>\n",
       "      <td>edge</td>\n",
       "      <td>8</td>\n",
       "      <td>ap</td>\n",
       "      <td>D</td>\n",
       "    </tr>\n",
       "  </tbody>\n",
       "</table>\n",
       "<p>100 rows × 5 columns</p>\n",
       "</div>"
      ],
      "text/plain": [
       "      machine_id    kind  cores region zone\n",
       "0   cad15a8e3fe9  worker     64     na    A\n",
       "1   512d6194ca5c    edge      8     eu    D\n",
       "2   375ddf95227b  worker     64     ap    C\n",
       "3   d6187389714e    edge      8     eu    D\n",
       "4   6c29573bd069    edge      4     ap    A\n",
       "..           ...     ...    ...    ...  ...\n",
       "95  3c0fb26783d3    core     16     eu    C\n",
       "96  96d46d4ccc5a    core     16     eu    A\n",
       "97  667a77c79630    edge      4     na    A\n",
       "98  509488895a9f  worker     64     eu    A\n",
       "99  a7d9e55f764d    edge      8     ap    D\n",
       "\n",
       "[100 rows x 5 columns]"
      ]
     },
     "execution_count": 2,
     "metadata": {},
     "output_type": "execute_result"
    }
   ],
   "source": [
    "m = machines()\n",
    "pd.DataFrame(m)"
   ]
  },
  {
   "cell_type": "code",
   "execution_count": 3,
   "id": "9aab5b7f-db56-4a3c-85ea-74385f2ce86e",
   "metadata": {},
   "outputs": [
    {
     "data": {
      "text/plain": [
       "{'machine_id': '6c29573bd069',\n",
       " 'kind': 'edge',\n",
       " 'cores': 4,\n",
       " 'region': 'ap',\n",
       " 'zone': 'A',\n",
       " 'cpu': 36.09,\n",
       " 'mem': 53.31,\n",
       " 'free': 46.69,\n",
       " 'network': 65.46,\n",
       " 'disk': 71.68}"
      ]
     },
     "execution_count": 3,
     "metadata": {},
     "output_type": "execute_result"
    }
   ],
   "source": [
    "u = usage(m[4])\n",
    "u = usage(u)\n",
    "u"
   ]
  },
  {
   "cell_type": "code",
   "execution_count": 4,
   "id": "ec0da381-35cb-499f-afb6-bb8e58ed433f",
   "metadata": {},
   "outputs": [
    {
     "data": {
      "text/plain": [
       "{'machine_id': '6c29573bd069',\n",
       " 'kind': 'edge',\n",
       " 'cores': 4,\n",
       " 'region': 'ap',\n",
       " 'zone': 'A',\n",
       " 'cpu': 36.09,\n",
       " 'mem': 53.31,\n",
       " 'free': 46.69,\n",
       " 'network': 65.46,\n",
       " 'disk': 71.68,\n",
       " 'last_update': datetime.datetime(2024, 5, 23, 13, 0, 47, 112740),\n",
       " 'status': 'active'}"
      ]
     },
     "execution_count": 4,
     "metadata": {},
     "output_type": "execute_result"
    }
   ],
   "source": [
    "status(u)"
   ]
  },
  {
   "cell_type": "code",
   "execution_count": 9,
   "id": "29beb03d-e457-41e6-a0d3-3fa544a5cc52",
   "metadata": {},
   "outputs": [],
   "source": [
    "jobs(u)"
   ]
  },
  {
   "cell_type": "code",
   "execution_count": 10,
   "id": "031972bc-1b45-40ea-9bdd-cb465cf28e18",
   "metadata": {},
   "outputs": [],
   "source": [
    "@csp.graph\n",
    "def main_graph(\n",
    "    machines_widget: PerspectiveWidget,\n",
    "    usage_widget: PerspectiveWidget,\n",
    "    status_widget: PerspectiveWidget,\n",
    "    jobs_widget: PerspectiveWidget,\n",
    "):\n",
    "    # A randomly generated list of \"machines\"\n",
    "    all_machines = machines()\n",
    "\n",
    "    # construct three ticking nodes for usage, status, and jobs\n",
    "    usage = machine_usage(all_machines, timedelta(seconds=1))\n",
    "    status = machine_status(usage, timedelta(seconds=5))\n",
    "    jobs = machine_jobs(all_machines, timedelta(seconds=5))\n",
    "\n",
    "    # push all of our data to 4 separate perspective tables\n",
    "    push_to_perspective(csp.const(all_machines), machines_widget)\n",
    "    push_to_perspective(usage, usage_widget)\n",
    "    push_to_perspective(status, status_widget)\n",
    "    push_to_perspective(jobs, jobs_widget)"
   ]
  },
  {
   "cell_type": "code",
   "execution_count": 11,
   "id": "59a5a44b-f31a-45af-9662-4a92c18b8a99",
   "metadata": {},
   "outputs": [],
   "source": [
    "# construct 4 separate perspective widgets. Each will have its own table internally\n",
    "machines_widget = PerspectiveWidget(MACHINE_SCHEMA, index=\"machine_id\", settings=False)\n",
    "usage_widget = PerspectiveWidget(USAGE_SCHEMA, index=\"machine_id\", settings=False)\n",
    "status_widget = PerspectiveWidget(STATUS_SCHEMA, index=\"machine_id\", sort=[[\"last_update\", \"desc\"]], settings=False)\n",
    "jobs_widget = PerspectiveWidget(JOBS_SCHEMA, sort=[[\"start_time\", \"desc\"]], settings=False)"
   ]
  },
  {
   "cell_type": "code",
   "execution_count": 12,
   "id": "83d26e68-b115-4835-af42-b20bd657a06d",
   "metadata": {},
   "outputs": [
    {
     "data": {
      "application/vnd.jupyter.widget-view+json": {
       "model_id": "68426cb03c7a483bbf27ab7a2a6d3530",
       "version_major": 2,
       "version_minor": 0
      },
      "text/plain": [
       "VBox(children=(HBox(children=(PerspectiveWidget(columns=['machine_id', 'kind', 'cores', 'region', 'zone'], set…"
      ]
     },
     "execution_count": 12,
     "metadata": {},
     "output_type": "execute_result"
    }
   ],
   "source": [
    "# a little bit of layout with ipywidgets\n",
    "VBox(children=[\n",
    "    HBox(children=[machines_widget, usage_widget]),\n",
    "    HBox(children=[status_widget, jobs_widget]),\n",
    "])"
   ]
  },
  {
   "cell_type": "code",
   "execution_count": 13,
   "id": "4ea73f80-ec24-4130-91a4-9a696a7fe9ea",
   "metadata": {},
   "outputs": [
    {
     "data": {
      "text/plain": [
       "<csp.impl.wiring.threaded_runtime.ThreadRunner at 0x14dbcb610>"
      ]
     },
     "execution_count": 13,
     "metadata": {},
     "output_type": "execute_result"
    }
   ],
   "source": [
    "csp.run_on_thread(main_graph, machines_widget, usage_widget, status_widget, jobs_widget, realtime=True, daemon=True)"
   ]
  },
  {
   "cell_type": "code",
   "execution_count": 14,
   "id": "8cf052cf-83a5-4870-80e7-dde031cc530e",
   "metadata": {},
   "outputs": [],
   "source": [
    "status_widget.plugin = \"X Bar\"\n",
    "status_widget.group_by = [\"status\"]\n",
    "status_widget.columns = [\"machine_id\"]\n",
    "status_widget.aggregates = {\"status\": \"last\"}"
   ]
  },
  {
   "cell_type": "code",
   "execution_count": null,
   "id": "b61505e5-5211-48f1-9298-85bf145b5bfc",
   "metadata": {},
   "outputs": [],
   "source": []
  }
 ],
 "metadata": {
  "kernelspec": {
   "display_name": "Python 3 (ipykernel)",
   "language": "python",
   "name": "python3"
  },
  "language_info": {
   "codemirror_mode": {
    "name": "ipython",
    "version": 3
   },
   "file_extension": ".py",
   "mimetype": "text/x-python",
   "name": "python",
   "nbconvert_exporter": "python",
   "pygments_lexer": "ipython3",
   "version": "3.11.9"
  }
 },
 "nbformat": 4,
 "nbformat_minor": 5
}
