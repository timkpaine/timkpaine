{
 "cells": [
  {
   "cell_type": "markdown",
   "id": "8535a97b-5eb9-4d17-8fca-c967906a2555",
   "metadata": {},
   "source": [
    "# Perspective Streaming Data Example\n",
    "In this example, we will use [csp](https://github.com/point72/csp) to build a streaming data graph, and pump data into `perspective` widgets."
   ]
  },
  {
   "cell_type": "code",
   "execution_count": null,
   "id": "e58af389-4716-4bec-9f4d-32deffef2000",
   "metadata": {},
   "outputs": [],
   "source": [
    "import csp\n",
    "from datetime import timedelta\n",
    "from ipywidgets import HBox, VBox\n",
    "from superstore import machines, MACHINE_SCHEMA, USAGE_SCHEMA, STATUS_SCHEMA, JOBS_SCHEMA\n",
    "from perspective import PerspectiveWidget\n",
    "from csp_nodes import machine_usage, machine_status, machine_jobs, push_to_perspective"
   ]
  },
  {
   "cell_type": "markdown",
   "id": "d6989f53-e447-4d7a-943d-2f0227f7bba6",
   "metadata": {},
   "source": [
    "The details of `csp` are not super important for the purpose of this talk, but here we construct a streaming DAG of data which will feed `perspective` at different intervals"
   ]
  },
  {
   "cell_type": "code",
   "execution_count": null,
   "id": "031972bc-1b45-40ea-9bdd-cb465cf28e18",
   "metadata": {},
   "outputs": [],
   "source": [
    "@csp.graph\n",
    "def main_graph(\n",
    "    machines_widget: PerspectiveWidget,\n",
    "    usage_widget: PerspectiveWidget,\n",
    "    status_widget: PerspectiveWidget,\n",
    "    jobs_widget: PerspectiveWidget,\n",
    "):\n",
    "    # A randomly generated list of \"machines\"\n",
    "    all_machines = machines()\n",
    "\n",
    "    # construct three ticking nodes for usage, status, and jobs\n",
    "    usage = machine_usage(all_machines, timedelta(seconds=1))\n",
    "    status = machine_status(usage, timedelta(seconds=5))\n",
    "    jobs = machine_jobs(all_machines, timedelta(seconds=5))\n",
    "\n",
    "    # push all of our data to 4 separate perspective tables\n",
    "    push_to_perspective(csp.const(all_machines), machines_widget)\n",
    "    push_to_perspective(usage, usage_widget)\n",
    "    push_to_perspective(status, status_widget)\n",
    "    push_to_perspective(jobs, jobs_widget)"
   ]
  },
  {
   "cell_type": "code",
   "execution_count": 3,
   "id": "59a5a44b-f31a-45af-9662-4a92c18b8a99",
   "metadata": {},
   "outputs": [],
   "source": [
    "# construct 4 separate perspective widgets. Each will have its own table internally\n",
    "machines_widget = PerspectiveWidget(MACHINE_SCHEMA, index=\"machine_id\")\n",
    "usage_widget = PerspectiveWidget(USAGE_SCHEMA, index=\"machine_id\")\n",
    "status_widget = PerspectiveWidget(STATUS_SCHEMA, index=\"machine_id\", sort=[[\"last_update\", \"desc\"]])\n",
    "jobs_widget = PerspectiveWidget(JOBS_SCHEMA, sort=[[\"start_time\", \"desc\"]])"
   ]
  },
  {
   "cell_type": "code",
   "execution_count": 4,
   "id": "83d26e68-b115-4835-af42-b20bd657a06d",
   "metadata": {},
   "outputs": [
    {
     "data": {
      "application/vnd.jupyter.widget-view+json": {
       "model_id": "fc65101b31344392b33de8a7d8b890f0",
       "version_major": 2,
       "version_minor": 0
      },
      "text/plain": [
       "VBox(children=(HBox(children=(PerspectiveWidget(columns=['machine_id', 'kind', 'cores', 'region', 'zone'], the…"
      ]
     },
     "execution_count": 4,
     "metadata": {},
     "output_type": "execute_result"
    }
   ],
   "source": [
    "# a little bit of layout with ipywidgets\n",
    "VBox(children=[\n",
    "    HBox(children=[machines_widget, usage_widget]),\n",
    "    HBox(children=[status_widget, jobs_widget]),\n",
    "])"
   ]
  },
  {
   "cell_type": "code",
   "execution_count": null,
   "id": "4ea73f80-ec24-4130-91a4-9a696a7fe9ea",
   "metadata": {},
   "outputs": [],
   "source": [
    "csp.run(main_graph, machines_widget, usage_widget, status_widget, jobs_widget, realtime=True)"
   ]
  },
  {
   "cell_type": "code",
   "execution_count": null,
   "id": "8cf052cf-83a5-4870-80e7-dde031cc530e",
   "metadata": {},
   "outputs": [],
   "source": []
  }
 ],
 "metadata": {
  "kernelspec": {
   "display_name": "Python 3 (ipykernel)",
   "language": "python",
   "name": "python3"
  },
  "language_info": {
   "codemirror_mode": {
    "name": "ipython",
    "version": 3
   },
   "file_extension": ".py",
   "mimetype": "text/x-python",
   "name": "python",
   "nbconvert_exporter": "python",
   "pygments_lexer": "ipython3",
   "version": "3.11.8"
  }
 },
 "nbformat": 4,
 "nbformat_minor": 5
}
