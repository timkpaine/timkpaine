{
 "cells": [
  {
   "cell_type": "code",
   "execution_count": null,
   "id": "f994d0e7-c895-459a-b220-994d0f2bf8f9",
   "metadata": {
    "tags": []
   },
   "outputs": [],
   "source": [
    "import asyncio\n",
    "import random\n",
    "import tributary.streaming as ts"
   ]
  },
  {
   "cell_type": "code",
   "execution_count": null,
   "id": "ec497e19-9be5-4de7-beb2-b8f317ec1a45",
   "metadata": {
    "tags": []
   },
   "outputs": [],
   "source": [
    "# Return a random value\n",
    "def func():\n",
    "    return random.random()"
   ]
  },
  {
   "cell_type": "code",
   "execution_count": null,
   "id": "69c55258-2c7f-4ac0-a4a2-c17517ac6d87",
   "metadata": {
    "tags": []
   },
   "outputs": [],
   "source": [
    "# Call the random function 5 times\n",
    "rand = ts.Timer(func, interval=0, count=5)\n",
    "\n",
    "# Multiply by a constant\n",
    "rand_perc = rand * 100\n",
    "\n",
    "# Round to 2 digits\n",
    "rand_rounded = rand_perc.apply(lambda x: round(x, 2))\n",
    "\n",
    "# And print the result\n",
    "p = rand_rounded.print()"
   ]
  },
  {
   "cell_type": "code",
   "execution_count": null,
   "id": "649cbc7c-0f4c-49bf-9bc9-0d969390f0da",
   "metadata": {},
   "outputs": [],
   "source": [
    "p.dagre()"
   ]
  },
  {
   "cell_type": "code",
   "execution_count": null,
   "id": "a92000df-7d62-4512-97d4-6e2e7527b9ae",
   "metadata": {},
   "outputs": [],
   "source": [
    "ts.run(p)"
   ]
  },
  {
   "cell_type": "code",
   "execution_count": null,
   "id": "b73f2c9f-9480-4223-8123-03eec8aa91ba",
   "metadata": {},
   "outputs": [],
   "source": []
  }
 ],
 "metadata": {
  "kernelspec": {
   "display_name": "Python 3 (ipykernel)",
   "language": "python",
   "name": "python3"
  },
  "language_info": {
   "codemirror_mode": {
    "name": "ipython",
    "version": 3
   },
   "file_extension": ".py",
   "mimetype": "text/x-python",
   "name": "python",
   "nbconvert_exporter": "python",
   "pygments_lexer": "ipython3",
   "version": "3.11.3"
  }
 },
 "nbformat": 4,
 "nbformat_minor": 5
}
