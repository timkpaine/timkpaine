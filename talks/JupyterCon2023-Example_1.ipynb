{
 "cells": [
  {
   "cell_type": "code",
   "execution_count": null,
   "id": "a8cc73b5-7956-4b2c-91df-dc8ac63eec78",
   "metadata": {
    "tags": []
   },
   "outputs": [],
   "source": [
    "from ipydagred3 import DagreD3Widget, Graph, Node, Edge"
   ]
  },
  {
   "cell_type": "code",
   "execution_count": null,
   "id": "dc738bcd-5929-49b4-8717-ebcc2d8234ba",
   "metadata": {
    "tags": []
   },
   "outputs": [],
   "source": [
    "# Make some nodes\n",
    "n1 = Node(\"node1\")\n",
    "n2 = Node(\"node2\")\n",
    "n3 = Node(\"node3\")"
   ]
  },
  {
   "cell_type": "code",
   "execution_count": null,
   "id": "cf76a015-4e2f-4245-b42f-9e14ced2b683",
   "metadata": {
    "tags": []
   },
   "outputs": [],
   "source": [
    "# Make some edges\n",
    "e1 = Edge(n1, n2)\n",
    "e2 = Edge(n1, n3)"
   ]
  },
  {
   "cell_type": "code",
   "execution_count": null,
   "id": "b09d1c0c-be85-42f4-903a-93f4cb6f5675",
   "metadata": {
    "tags": []
   },
   "outputs": [],
   "source": [
    "# Make a graph\n",
    "g = Graph()"
   ]
  },
  {
   "cell_type": "code",
   "execution_count": null,
   "id": "35b099af-5667-4c56-889e-f0f68da6addb",
   "metadata": {
    "tags": []
   },
   "outputs": [],
   "source": [
    "# Add some of the items\n",
    "g.addNode(n1)\n",
    "g.addNode(n2)\n",
    "g.addEdge(e1)"
   ]
  },
  {
   "cell_type": "code",
   "execution_count": null,
   "id": "c75e3ccd-8f18-4569-9162-37d0a699df35",
   "metadata": {
    "tags": []
   },
   "outputs": [],
   "source": [
    "# Put into a widget\n",
    "widget = DagreD3Widget(g)\n",
    "widget"
   ]
  },
  {
   "cell_type": "code",
   "execution_count": null,
   "id": "e8ed3e70-746e-4dc7-bdb7-105228e63bb8",
   "metadata": {
    "tags": []
   },
   "outputs": [],
   "source": [
    "# Add/modify data...\n",
    "# ...on widget\n",
    "widget.addNode(n3)"
   ]
  },
  {
   "cell_type": "code",
   "execution_count": null,
   "id": "55d54cb2-8b62-4fdf-96e1-67c664f0b751",
   "metadata": {
    "tags": []
   },
   "outputs": [],
   "source": [
    "# ...or\n",
    "g.addEdge(e2)"
   ]
  },
  {
   "cell_type": "code",
   "execution_count": null,
   "id": "9c255cb9-4f4d-4ede-9604-b5912fc3b04c",
   "metadata": {},
   "outputs": [],
   "source": [
    "# propagate some changes\n",
    "e2.label = \"blerg\"\n",
    "n2.attrs = {\"style\": \"fill: #F77\"}\n",
    "n3.attrs = {\"style\": \"fill: #7F7\"}"
   ]
  },
  {
   "cell_type": "code",
   "execution_count": null,
   "id": "649cbc7c-0f4c-49bf-9bc9-0d969390f0da",
   "metadata": {},
   "outputs": [],
   "source": []
  }
 ],
 "metadata": {
  "kernelspec": {
   "display_name": "Python 3 (ipykernel)",
   "language": "python",
   "name": "python3"
  },
  "language_info": {
   "codemirror_mode": {
    "name": "ipython",
    "version": 3
   },
   "file_extension": ".py",
   "mimetype": "text/x-python",
   "name": "python",
   "nbconvert_exporter": "python",
   "pygments_lexer": "ipython3",
   "version": "3.11.3"
  }
 },
 "nbformat": 4,
 "nbformat_minor": 5
}
